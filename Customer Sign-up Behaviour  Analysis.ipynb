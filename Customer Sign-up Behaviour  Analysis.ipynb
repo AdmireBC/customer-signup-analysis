{
 "cells": [
  {
   "cell_type": "code",
   "execution_count": 1,
   "id": "bbce5be1-da27-4186-a771-4b1c5b341ce0",
   "metadata": {},
   "outputs": [],
   "source": [
    "import pandas as pd"
   ]
  },
  {
   "cell_type": "code",
   "execution_count": 3,
   "id": "7780232a-f490-406d-9cba-af0e60310cec",
   "metadata": {},
   "outputs": [],
   "source": [
    "df = pd.read_csv(\"customer_signups.csv\")"
   ]
  },
  {
   "cell_type": "code",
   "execution_count": 5,
   "id": "78b95ad8-7eb0-4be9-9459-f698a43ac492",
   "metadata": {},
   "outputs": [
    {
     "data": {
      "text/html": [
       "<div>\n",
       "<style scoped>\n",
       "    .dataframe tbody tr th:only-of-type {\n",
       "        vertical-align: middle;\n",
       "    }\n",
       "\n",
       "    .dataframe tbody tr th {\n",
       "        vertical-align: top;\n",
       "    }\n",
       "\n",
       "    .dataframe thead th {\n",
       "        text-align: right;\n",
       "    }\n",
       "</style>\n",
       "<table border=\"1\" class=\"dataframe\">\n",
       "  <thead>\n",
       "    <tr style=\"text-align: right;\">\n",
       "      <th></th>\n",
       "      <th>customer_id</th>\n",
       "      <th>name</th>\n",
       "      <th>email</th>\n",
       "      <th>signup_date</th>\n",
       "      <th>source</th>\n",
       "      <th>region</th>\n",
       "      <th>plan_selected</th>\n",
       "      <th>marketing_opt_in</th>\n",
       "      <th>age</th>\n",
       "      <th>gender</th>\n",
       "    </tr>\n",
       "  </thead>\n",
       "  <tbody>\n",
       "    <tr>\n",
       "      <th>0</th>\n",
       "      <td>CUST00000</td>\n",
       "      <td>Joshua Bryant</td>\n",
       "      <td>NaN</td>\n",
       "      <td>NaN</td>\n",
       "      <td>Instagram</td>\n",
       "      <td>NaN</td>\n",
       "      <td>basic</td>\n",
       "      <td>No</td>\n",
       "      <td>34</td>\n",
       "      <td>Female</td>\n",
       "    </tr>\n",
       "    <tr>\n",
       "      <th>1</th>\n",
       "      <td>CUST00001</td>\n",
       "      <td>Nicole Stewart</td>\n",
       "      <td>nicole1@example.com</td>\n",
       "      <td>02-01-24</td>\n",
       "      <td>LinkedIn</td>\n",
       "      <td>West</td>\n",
       "      <td>basic</td>\n",
       "      <td>Yes</td>\n",
       "      <td>29</td>\n",
       "      <td>Male</td>\n",
       "    </tr>\n",
       "    <tr>\n",
       "      <th>2</th>\n",
       "      <td>CUST00002</td>\n",
       "      <td>Rachel Allen</td>\n",
       "      <td>rachel2@example.com</td>\n",
       "      <td>03-01-24</td>\n",
       "      <td>Google</td>\n",
       "      <td>North</td>\n",
       "      <td>PREMIUM</td>\n",
       "      <td>Yes</td>\n",
       "      <td>34</td>\n",
       "      <td>Non-Binary</td>\n",
       "    </tr>\n",
       "    <tr>\n",
       "      <th>3</th>\n",
       "      <td>CUST00003</td>\n",
       "      <td>Zachary Sanchez</td>\n",
       "      <td>zachary3@mailhub.org</td>\n",
       "      <td>04-01-24</td>\n",
       "      <td>YouTube</td>\n",
       "      <td>NaN</td>\n",
       "      <td>Pro</td>\n",
       "      <td>No</td>\n",
       "      <td>40</td>\n",
       "      <td>Male</td>\n",
       "    </tr>\n",
       "    <tr>\n",
       "      <th>4</th>\n",
       "      <td>CUST00004</td>\n",
       "      <td>NaN</td>\n",
       "      <td>matthew4@mailhub.org</td>\n",
       "      <td>05-01-24</td>\n",
       "      <td>LinkedIn</td>\n",
       "      <td>West</td>\n",
       "      <td>Premium</td>\n",
       "      <td>No</td>\n",
       "      <td>25</td>\n",
       "      <td>Other</td>\n",
       "    </tr>\n",
       "  </tbody>\n",
       "</table>\n",
       "</div>"
      ],
      "text/plain": [
       "  customer_id             name                 email signup_date     source  \\\n",
       "0   CUST00000    Joshua Bryant                   NaN         NaN  Instagram   \n",
       "1   CUST00001   Nicole Stewart   nicole1@example.com    02-01-24   LinkedIn   \n",
       "2   CUST00002     Rachel Allen   rachel2@example.com    03-01-24     Google   \n",
       "3   CUST00003  Zachary Sanchez  zachary3@mailhub.org    04-01-24    YouTube   \n",
       "4   CUST00004              NaN  matthew4@mailhub.org    05-01-24   LinkedIn   \n",
       "\n",
       "  region plan_selected marketing_opt_in age      gender  \n",
       "0    NaN         basic               No  34      Female  \n",
       "1   West         basic              Yes  29        Male  \n",
       "2  North       PREMIUM              Yes  34  Non-Binary  \n",
       "3    NaN           Pro               No  40        Male  \n",
       "4   West       Premium               No  25       Other  "
      ]
     },
     "execution_count": 5,
     "metadata": {},
     "output_type": "execute_result"
    }
   ],
   "source": [
    "df.head()"
   ]
  },
  {
   "cell_type": "code",
   "execution_count": 7,
   "id": "0ebb5783-66ff-4069-8df7-a6c373fd1ef0",
   "metadata": {},
   "outputs": [
    {
     "name": "stdout",
     "output_type": "stream",
     "text": [
      "<class 'pandas.core.frame.DataFrame'>\n",
      "RangeIndex: 300 entries, 0 to 299\n",
      "Data columns (total 10 columns):\n",
      " #   Column            Non-Null Count  Dtype \n",
      "---  ------            --------------  ----- \n",
      " 0   customer_id       298 non-null    object\n",
      " 1   name              291 non-null    object\n",
      " 2   email             266 non-null    object\n",
      " 3   signup_date       298 non-null    object\n",
      " 4   source            291 non-null    object\n",
      " 5   region            270 non-null    object\n",
      " 6   plan_selected     292 non-null    object\n",
      " 7   marketing_opt_in  290 non-null    object\n",
      " 8   age               288 non-null    object\n",
      " 9   gender            292 non-null    object\n",
      "dtypes: object(10)\n",
      "memory usage: 23.6+ KB\n"
     ]
    }
   ],
   "source": [
    "df.info()"
   ]
  },
  {
   "cell_type": "code",
   "execution_count": 9,
   "id": "5e8090bb-54b1-4f17-99e5-823d0763b4d0",
   "metadata": {},
   "outputs": [
    {
     "data": {
      "text/plain": [
       "customer_id          2\n",
       "name                 9\n",
       "email               34\n",
       "signup_date          2\n",
       "source               9\n",
       "region              30\n",
       "plan_selected        8\n",
       "marketing_opt_in    10\n",
       "age                 12\n",
       "gender               8\n",
       "dtype: int64"
      ]
     },
     "execution_count": 9,
     "metadata": {},
     "output_type": "execute_result"
    }
   ],
   "source": [
    "df.isnull().sum()"
   ]
  },
  {
   "cell_type": "code",
   "execution_count": 11,
   "id": "0589175e-219f-4f37-aa6c-884529ead7b6",
   "metadata": {},
   "outputs": [
    {
     "data": {
      "text/html": [
       "<div>\n",
       "<style scoped>\n",
       "    .dataframe tbody tr th:only-of-type {\n",
       "        vertical-align: middle;\n",
       "    }\n",
       "\n",
       "    .dataframe tbody tr th {\n",
       "        vertical-align: top;\n",
       "    }\n",
       "\n",
       "    .dataframe thead th {\n",
       "        text-align: right;\n",
       "    }\n",
       "</style>\n",
       "<table border=\"1\" class=\"dataframe\">\n",
       "  <thead>\n",
       "    <tr style=\"text-align: right;\">\n",
       "      <th></th>\n",
       "      <th>customer_id</th>\n",
       "      <th>name</th>\n",
       "      <th>email</th>\n",
       "      <th>signup_date</th>\n",
       "      <th>source</th>\n",
       "      <th>region</th>\n",
       "      <th>plan_selected</th>\n",
       "      <th>marketing_opt_in</th>\n",
       "      <th>age</th>\n",
       "      <th>gender</th>\n",
       "    </tr>\n",
       "  </thead>\n",
       "  <tbody>\n",
       "    <tr>\n",
       "      <th>69</th>\n",
       "      <td>CUST00069</td>\n",
       "      <td>Jean Gay</td>\n",
       "      <td>jean69@mailhub.org</td>\n",
       "      <td>10-03-24</td>\n",
       "      <td>Instagram</td>\n",
       "      <td>South</td>\n",
       "      <td>Premium</td>\n",
       "      <td>Yes</td>\n",
       "      <td>40</td>\n",
       "      <td>Female</td>\n",
       "    </tr>\n",
       "    <tr>\n",
       "      <th>228</th>\n",
       "      <td>CUST00228</td>\n",
       "      <td>Robin Wilson</td>\n",
       "      <td>robin28@mailhub.org</td>\n",
       "      <td>16-08-24</td>\n",
       "      <td>Referral</td>\n",
       "      <td>East</td>\n",
       "      <td>basic</td>\n",
       "      <td>Yes</td>\n",
       "      <td>34</td>\n",
       "      <td>FEMALE</td>\n",
       "    </tr>\n",
       "    <tr>\n",
       "      <th>266</th>\n",
       "      <td>CUST00266</td>\n",
       "      <td>Christopher Hawkins</td>\n",
       "      <td>christopher66@mailhub.org</td>\n",
       "      <td>23-09-24</td>\n",
       "      <td>??</td>\n",
       "      <td>West</td>\n",
       "      <td>Basic</td>\n",
       "      <td>No</td>\n",
       "      <td>53</td>\n",
       "      <td>Other</td>\n",
       "    </tr>\n",
       "    <tr>\n",
       "      <th>179</th>\n",
       "      <td>CUST00179</td>\n",
       "      <td>Willie Wilson</td>\n",
       "      <td>willie79@mailhub.org</td>\n",
       "      <td>28-06-24</td>\n",
       "      <td>YouTube</td>\n",
       "      <td>East</td>\n",
       "      <td>Premium</td>\n",
       "      <td>No</td>\n",
       "      <td>25</td>\n",
       "      <td>Non-Binary</td>\n",
       "    </tr>\n",
       "    <tr>\n",
       "      <th>43</th>\n",
       "      <td>CUST00043</td>\n",
       "      <td>Christian Lane</td>\n",
       "      <td>christian43@example.com</td>\n",
       "      <td>13-02-24</td>\n",
       "      <td>Google</td>\n",
       "      <td>East</td>\n",
       "      <td>Basic</td>\n",
       "      <td>Yes</td>\n",
       "      <td>25</td>\n",
       "      <td>Female</td>\n",
       "    </tr>\n",
       "  </tbody>\n",
       "</table>\n",
       "</div>"
      ],
      "text/plain": [
       "    customer_id                 name                      email signup_date  \\\n",
       "69    CUST00069             Jean Gay         jean69@mailhub.org    10-03-24   \n",
       "228   CUST00228         Robin Wilson        robin28@mailhub.org    16-08-24   \n",
       "266   CUST00266  Christopher Hawkins  christopher66@mailhub.org    23-09-24   \n",
       "179   CUST00179        Willie Wilson       willie79@mailhub.org    28-06-24   \n",
       "43    CUST00043       Christian Lane    christian43@example.com    13-02-24   \n",
       "\n",
       "        source region plan_selected marketing_opt_in age      gender  \n",
       "69   Instagram  South       Premium              Yes  40      Female  \n",
       "228   Referral   East         basic              Yes  34      FEMALE  \n",
       "266         ??   West         Basic               No  53       Other  \n",
       "179    YouTube   East       Premium               No  25  Non-Binary  \n",
       "43      Google   East         Basic              Yes  25      Female  "
      ]
     },
     "execution_count": 11,
     "metadata": {},
     "output_type": "execute_result"
    }
   ],
   "source": [
    "df.sample(5)"
   ]
  },
  {
   "cell_type": "code",
   "execution_count": 19,
   "id": "543952c8-6763-4902-ac4d-27460aaa1c65",
   "metadata": {},
   "outputs": [],
   "source": [
    "df['signup_date'] = pd.to_datetime(df['signup_date'], errors='coerce')"
   ]
  },
  {
   "cell_type": "code",
   "execution_count": 21,
   "id": "07fdd9c5-fd5a-4c81-882e-d7db3eb1ad4a",
   "metadata": {},
   "outputs": [
    {
     "name": "stdout",
     "output_type": "stream",
     "text": [
      "Plan selected unique values:\n"
     ]
    }
   ],
   "source": [
    "print(\"Plan selected unique values:\")"
   ]
  },
  {
   "cell_type": "code",
   "execution_count": 25,
   "id": "ee77c2be-e9c4-409d-9d06-e5ff38c881c9",
   "metadata": {},
   "outputs": [
    {
     "name": "stdout",
     "output_type": "stream",
     "text": [
      "['basic' 'PREMIUM' 'Pro' 'Premium' 'UnknownPlan' 'PRO' 'Basic' nan 'prem']\n"
     ]
    }
   ],
   "source": [
    "print(df['plan_selected'].unique())"
   ]
  },
  {
   "cell_type": "code",
   "execution_count": 27,
   "id": "de76219b-ff56-4256-9687-25b3383c79cb",
   "metadata": {},
   "outputs": [
    {
     "name": "stdout",
     "output_type": "stream",
     "text": [
      "\n",
      "Gender unique values:\n"
     ]
    }
   ],
   "source": [
    "print(\"\\nGender unique values:\")"
   ]
  },
  {
   "cell_type": "code",
   "execution_count": 29,
   "id": "5b1087b6-7591-44f4-a5ea-594fb4a6e009",
   "metadata": {},
   "outputs": [
    {
     "name": "stdout",
     "output_type": "stream",
     "text": [
      "['Female' 'Male' 'Non-Binary' 'Other' 'male' 'FEMALE' nan '123']\n"
     ]
    }
   ],
   "source": [
    "print(df['gender'].unique())"
   ]
  },
  {
   "cell_type": "code",
   "execution_count": 31,
   "id": "dd090ad2-c826-4f95-9643-04a1e8be61a6",
   "metadata": {},
   "outputs": [],
   "source": [
    "duplicates = df.duplicated(subset='customer_id').sum()"
   ]
  },
  {
   "cell_type": "code",
   "execution_count": 33,
   "id": "fdc456d9-c323-466e-a425-db03fae58879",
   "metadata": {},
   "outputs": [
    {
     "name": "stdout",
     "output_type": "stream",
     "text": [
      "\n",
      "Duplicates in customer_id: 1\n"
     ]
    }
   ],
   "source": [
    "print(f\"\\nDuplicates in customer_id: {duplicates}\")"
   ]
  },
  {
   "cell_type": "code",
   "execution_count": 37,
   "id": "c8970db1-de2e-4263-bcba-46c25b0e6e50",
   "metadata": {},
   "outputs": [],
   "source": [
    "df = df.drop_duplicates(subset='customer_id')"
   ]
  },
  {
   "cell_type": "code",
   "execution_count": 39,
   "id": "9ba36087-ef9e-44e9-915f-6895cadc6fdf",
   "metadata": {},
   "outputs": [],
   "source": [
    "df = df.dropna(subset=['customer_id'])"
   ]
  },
  {
   "cell_type": "code",
   "execution_count": 41,
   "id": "7e242827-2ed0-489f-bac6-00f1b3134c8d",
   "metadata": {},
   "outputs": [],
   "source": [
    "df['signup_date'] = pd.to_datetime(df['signup_date'], errors='coerce')"
   ]
  },
  {
   "cell_type": "code",
   "execution_count": 43,
   "id": "e107f9a4-7b2c-4fa3-a7ca-cf0238b86eb7",
   "metadata": {},
   "outputs": [],
   "source": [
    "df['plan_selected'] = df['plan_selected'].str.strip().str.capitalize()\n",
    "df['plan_selected'] = df['plan_selected'].replace({\n",
    "    'Prem': 'Premium',\n",
    "    'Pro': 'Pro',\n",
    "    'Premium': 'Premium',\n",
    "    'Basic': 'Basic',\n",
    "    'Unknownplan': 'Unknown'\n",
    "})"
   ]
  },
  {
   "cell_type": "code",
   "execution_count": 45,
   "id": "0921d467-215e-4a8f-bc3e-8566e4b61bfb",
   "metadata": {},
   "outputs": [],
   "source": [
    "df['gender'] = df['gender'].str.strip().str.capitalize()\n",
    "df.loc[df['gender'].isin(['Male', 'Female', 'Non-Binary', 'Other']), 'gender'] = 'Unknown'"
   ]
  },
  {
   "cell_type": "code",
   "execution_count": 47,
   "id": "d8e53617-b64b-4267-9c74-2180bff4c3e3",
   "metadata": {},
   "outputs": [],
   "source": [
    "df['region'] = df['region'].fillna('Unknown')"
   ]
  },
  {
   "cell_type": "code",
   "execution_count": 49,
   "id": "f83f3720-6594-43a3-9ff1-c7cc20bf80cf",
   "metadata": {},
   "outputs": [],
   "source": [
    "df['email'] = df['email'].fillna('missing')"
   ]
  },
  {
   "cell_type": "code",
   "execution_count": 51,
   "id": "c52703ba-6142-4807-a651-249368cc02b8",
   "metadata": {},
   "outputs": [
    {
     "name": "stdout",
     "output_type": "stream",
     "text": [
      "<class 'pandas.core.frame.DataFrame'>\n",
      "Index: 298 entries, 0 to 299\n",
      "Data columns (total 10 columns):\n",
      " #   Column            Non-Null Count  Dtype         \n",
      "---  ------            --------------  -----         \n",
      " 0   customer_id       298 non-null    object        \n",
      " 1   name              289 non-null    object        \n",
      " 2   email             298 non-null    object        \n",
      " 3   signup_date       292 non-null    datetime64[ns]\n",
      " 4   source            289 non-null    object        \n",
      " 5   region            298 non-null    object        \n",
      " 6   plan_selected     290 non-null    object        \n",
      " 7   marketing_opt_in  288 non-null    object        \n",
      " 8   age               286 non-null    object        \n",
      " 9   gender            290 non-null    object        \n",
      "dtypes: datetime64[ns](1), object(9)\n",
      "memory usage: 25.6+ KB\n"
     ]
    },
    {
     "data": {
      "text/plain": [
       "gender\n",
       "Unknown       242\n",
       "Non-binary     42\n",
       "123             6\n",
       "Name: count, dtype: int64"
      ]
     },
     "execution_count": 51,
     "metadata": {},
     "output_type": "execute_result"
    }
   ],
   "source": [
    "df.info()\n",
    "df.isnull().sum()\n",
    "df['plan_selected'].value_counts()\n",
    "df['gender'].value_counts()"
   ]
  },
  {
   "cell_type": "code",
   "execution_count": 53,
   "id": "583b4f0e-bb9b-44b7-8615-91b708e02378",
   "metadata": {},
   "outputs": [],
   "source": [
    "df.loc[df['gender'] == ' 123', 'gender'] = 'Unknown'"
   ]
  },
  {
   "cell_type": "code",
   "execution_count": 55,
   "id": "63454f63-b55a-488e-8f6b-500473ef56e3",
   "metadata": {},
   "outputs": [
    {
     "data": {
      "text/plain": [
       "gender\n",
       "Unknown       242\n",
       "Non-binary     42\n",
       "123             6\n",
       "Name: count, dtype: int64"
      ]
     },
     "execution_count": 55,
     "metadata": {},
     "output_type": "execute_result"
    }
   ],
   "source": [
    "df['gender'].value_counts()"
   ]
  },
  {
   "cell_type": "code",
   "execution_count": 63,
   "id": "3154756e-5cdd-47df-b539-59128eda9db2",
   "metadata": {},
   "outputs": [
    {
     "name": "stdout",
     "output_type": "stream",
     "text": [
      "                  Missing Values  % Missing\n",
      "customer_id                    0       0.00\n",
      "name                           9       3.02\n",
      "email                          0       0.00\n",
      "signup_date                    6       2.01\n",
      "source                         9       3.02\n",
      "region                         0       0.00\n",
      "plan_selected                  8       2.68\n",
      "marketing_opt_in              10       3.36\n",
      "age                           12       4.03\n",
      "gender                         8       2.68\n"
     ]
    }
   ],
   "source": [
    "missing_summary = df.isnull().sum().to_frame(name='Missing Values')\n",
    "missing_summary['% Missing'] = (missing_summary['Missing Values'] / len(df) * 100).round(2)\n",
    "print(missing_summary)"
   ]
  },
  {
   "cell_type": "code",
   "execution_count": 65,
   "id": "18f471b9-703b-4861-862a-589e15a11808",
   "metadata": {},
   "outputs": [
    {
     "name": "stdout",
     "output_type": "stream",
     "text": [
      "Duplicates removed: 1\n"
     ]
    }
   ],
   "source": [
    "print(\"Duplicates removed: 1\")"
   ]
  },
  {
   "cell_type": "code",
   "execution_count": 67,
   "id": "757ecd48-ca23-453a-984b-d3c11269295e",
   "metadata": {},
   "outputs": [
    {
     "name": "stdout",
     "output_type": "stream",
     "text": [
      "Inconsistent categories corrected: plan_selected, gender\n"
     ]
    }
   ],
   "source": [
    "print(\"Inconsistent categories corrected: plan_selected, gender\")"
   ]
  },
  {
   "cell_type": "code",
   "execution_count": 91,
   "id": "03f88f24-7b99-4165-8c3f-9e5f94e6eb21",
   "metadata": {},
   "outputs": [],
   "source": [
    "df = df.dropna(subset=['signup_date'])\n"
   ]
  },
  {
   "cell_type": "code",
   "execution_count": 93,
   "id": "13c86a3a-c05a-4c7c-a45b-52a3fbf70508",
   "metadata": {},
   "outputs": [],
   "source": [
    "df['signup_week'] = df['signup_date'].dt.to_period('W').dt.start_time"
   ]
  },
  {
   "cell_type": "code",
   "execution_count": 95,
   "id": "8a6d22b1-6a03-4f0e-9257-f9adae9a5215",
   "metadata": {},
   "outputs": [
    {
     "data": {
      "text/html": [
       "<div>\n",
       "<style scoped>\n",
       "    .dataframe tbody tr th:only-of-type {\n",
       "        vertical-align: middle;\n",
       "    }\n",
       "\n",
       "    .dataframe tbody tr th {\n",
       "        vertical-align: top;\n",
       "    }\n",
       "\n",
       "    .dataframe thead th {\n",
       "        text-align: right;\n",
       "    }\n",
       "</style>\n",
       "<table border=\"1\" class=\"dataframe\">\n",
       "  <thead>\n",
       "    <tr style=\"text-align: right;\">\n",
       "      <th></th>\n",
       "      <th>signup_week</th>\n",
       "      <th>Signups</th>\n",
       "    </tr>\n",
       "  </thead>\n",
       "  <tbody>\n",
       "    <tr>\n",
       "      <th>0</th>\n",
       "      <td>2024-01-01</td>\n",
       "      <td>6</td>\n",
       "    </tr>\n",
       "    <tr>\n",
       "      <th>1</th>\n",
       "      <td>2024-01-08</td>\n",
       "      <td>5</td>\n",
       "    </tr>\n",
       "    <tr>\n",
       "      <th>2</th>\n",
       "      <td>2024-01-15</td>\n",
       "      <td>7</td>\n",
       "    </tr>\n",
       "    <tr>\n",
       "      <th>3</th>\n",
       "      <td>2024-01-22</td>\n",
       "      <td>7</td>\n",
       "    </tr>\n",
       "    <tr>\n",
       "      <th>4</th>\n",
       "      <td>2024-01-29</td>\n",
       "      <td>8</td>\n",
       "    </tr>\n",
       "    <tr>\n",
       "      <th>5</th>\n",
       "      <td>2024-02-05</td>\n",
       "      <td>6</td>\n",
       "    </tr>\n",
       "    <tr>\n",
       "      <th>6</th>\n",
       "      <td>2024-02-12</td>\n",
       "      <td>6</td>\n",
       "    </tr>\n",
       "    <tr>\n",
       "      <th>7</th>\n",
       "      <td>2024-02-19</td>\n",
       "      <td>7</td>\n",
       "    </tr>\n",
       "    <tr>\n",
       "      <th>8</th>\n",
       "      <td>2024-02-26</td>\n",
       "      <td>7</td>\n",
       "    </tr>\n",
       "    <tr>\n",
       "      <th>9</th>\n",
       "      <td>2024-03-04</td>\n",
       "      <td>7</td>\n",
       "    </tr>\n",
       "    <tr>\n",
       "      <th>10</th>\n",
       "      <td>2024-03-11</td>\n",
       "      <td>5</td>\n",
       "    </tr>\n",
       "    <tr>\n",
       "      <th>11</th>\n",
       "      <td>2024-03-18</td>\n",
       "      <td>6</td>\n",
       "    </tr>\n",
       "    <tr>\n",
       "      <th>12</th>\n",
       "      <td>2024-03-25</td>\n",
       "      <td>6</td>\n",
       "    </tr>\n",
       "    <tr>\n",
       "      <th>13</th>\n",
       "      <td>2024-04-01</td>\n",
       "      <td>7</td>\n",
       "    </tr>\n",
       "    <tr>\n",
       "      <th>14</th>\n",
       "      <td>2024-04-08</td>\n",
       "      <td>5</td>\n",
       "    </tr>\n",
       "    <tr>\n",
       "      <th>15</th>\n",
       "      <td>2024-04-15</td>\n",
       "      <td>7</td>\n",
       "    </tr>\n",
       "    <tr>\n",
       "      <th>16</th>\n",
       "      <td>2024-04-22</td>\n",
       "      <td>7</td>\n",
       "    </tr>\n",
       "    <tr>\n",
       "      <th>17</th>\n",
       "      <td>2024-04-29</td>\n",
       "      <td>6</td>\n",
       "    </tr>\n",
       "    <tr>\n",
       "      <th>18</th>\n",
       "      <td>2024-05-06</td>\n",
       "      <td>4</td>\n",
       "    </tr>\n",
       "    <tr>\n",
       "      <th>19</th>\n",
       "      <td>2024-05-13</td>\n",
       "      <td>7</td>\n",
       "    </tr>\n",
       "    <tr>\n",
       "      <th>20</th>\n",
       "      <td>2024-05-20</td>\n",
       "      <td>7</td>\n",
       "    </tr>\n",
       "    <tr>\n",
       "      <th>21</th>\n",
       "      <td>2024-05-27</td>\n",
       "      <td>7</td>\n",
       "    </tr>\n",
       "    <tr>\n",
       "      <th>22</th>\n",
       "      <td>2024-06-03</td>\n",
       "      <td>7</td>\n",
       "    </tr>\n",
       "    <tr>\n",
       "      <th>23</th>\n",
       "      <td>2024-06-10</td>\n",
       "      <td>5</td>\n",
       "    </tr>\n",
       "    <tr>\n",
       "      <th>24</th>\n",
       "      <td>2024-06-17</td>\n",
       "      <td>7</td>\n",
       "    </tr>\n",
       "    <tr>\n",
       "      <th>25</th>\n",
       "      <td>2024-06-24</td>\n",
       "      <td>7</td>\n",
       "    </tr>\n",
       "    <tr>\n",
       "      <th>26</th>\n",
       "      <td>2024-07-01</td>\n",
       "      <td>7</td>\n",
       "    </tr>\n",
       "    <tr>\n",
       "      <th>27</th>\n",
       "      <td>2024-07-08</td>\n",
       "      <td>5</td>\n",
       "    </tr>\n",
       "    <tr>\n",
       "      <th>28</th>\n",
       "      <td>2024-07-15</td>\n",
       "      <td>6</td>\n",
       "    </tr>\n",
       "    <tr>\n",
       "      <th>29</th>\n",
       "      <td>2024-07-22</td>\n",
       "      <td>7</td>\n",
       "    </tr>\n",
       "    <tr>\n",
       "      <th>30</th>\n",
       "      <td>2024-07-29</td>\n",
       "      <td>7</td>\n",
       "    </tr>\n",
       "    <tr>\n",
       "      <th>31</th>\n",
       "      <td>2024-08-05</td>\n",
       "      <td>5</td>\n",
       "    </tr>\n",
       "    <tr>\n",
       "      <th>32</th>\n",
       "      <td>2024-08-12</td>\n",
       "      <td>6</td>\n",
       "    </tr>\n",
       "    <tr>\n",
       "      <th>33</th>\n",
       "      <td>2024-08-19</td>\n",
       "      <td>7</td>\n",
       "    </tr>\n",
       "    <tr>\n",
       "      <th>34</th>\n",
       "      <td>2024-08-26</td>\n",
       "      <td>7</td>\n",
       "    </tr>\n",
       "    <tr>\n",
       "      <th>35</th>\n",
       "      <td>2024-09-02</td>\n",
       "      <td>7</td>\n",
       "    </tr>\n",
       "    <tr>\n",
       "      <th>36</th>\n",
       "      <td>2024-09-09</td>\n",
       "      <td>5</td>\n",
       "    </tr>\n",
       "    <tr>\n",
       "      <th>37</th>\n",
       "      <td>2024-09-16</td>\n",
       "      <td>7</td>\n",
       "    </tr>\n",
       "    <tr>\n",
       "      <th>38</th>\n",
       "      <td>2024-09-23</td>\n",
       "      <td>7</td>\n",
       "    </tr>\n",
       "    <tr>\n",
       "      <th>39</th>\n",
       "      <td>2024-09-30</td>\n",
       "      <td>6</td>\n",
       "    </tr>\n",
       "    <tr>\n",
       "      <th>40</th>\n",
       "      <td>2024-10-07</td>\n",
       "      <td>5</td>\n",
       "    </tr>\n",
       "    <tr>\n",
       "      <th>41</th>\n",
       "      <td>2024-10-14</td>\n",
       "      <td>6</td>\n",
       "    </tr>\n",
       "    <tr>\n",
       "      <th>42</th>\n",
       "      <td>2024-10-21</td>\n",
       "      <td>6</td>\n",
       "    </tr>\n",
       "    <tr>\n",
       "      <th>43</th>\n",
       "      <td>2024-10-28</td>\n",
       "      <td>3</td>\n",
       "    </tr>\n",
       "    <tr>\n",
       "      <th>44</th>\n",
       "      <td>2024-11-04</td>\n",
       "      <td>7</td>\n",
       "    </tr>\n",
       "    <tr>\n",
       "      <th>45</th>\n",
       "      <td>2024-11-25</td>\n",
       "      <td>1</td>\n",
       "    </tr>\n",
       "    <tr>\n",
       "      <th>46</th>\n",
       "      <td>2024-12-02</td>\n",
       "      <td>7</td>\n",
       "    </tr>\n",
       "    <tr>\n",
       "      <th>47</th>\n",
       "      <td>2024-12-09</td>\n",
       "      <td>2</td>\n",
       "    </tr>\n",
       "  </tbody>\n",
       "</table>\n",
       "</div>"
      ],
      "text/plain": [
       "   signup_week  Signups\n",
       "0   2024-01-01        6\n",
       "1   2024-01-08        5\n",
       "2   2024-01-15        7\n",
       "3   2024-01-22        7\n",
       "4   2024-01-29        8\n",
       "5   2024-02-05        6\n",
       "6   2024-02-12        6\n",
       "7   2024-02-19        7\n",
       "8   2024-02-26        7\n",
       "9   2024-03-04        7\n",
       "10  2024-03-11        5\n",
       "11  2024-03-18        6\n",
       "12  2024-03-25        6\n",
       "13  2024-04-01        7\n",
       "14  2024-04-08        5\n",
       "15  2024-04-15        7\n",
       "16  2024-04-22        7\n",
       "17  2024-04-29        6\n",
       "18  2024-05-06        4\n",
       "19  2024-05-13        7\n",
       "20  2024-05-20        7\n",
       "21  2024-05-27        7\n",
       "22  2024-06-03        7\n",
       "23  2024-06-10        5\n",
       "24  2024-06-17        7\n",
       "25  2024-06-24        7\n",
       "26  2024-07-01        7\n",
       "27  2024-07-08        5\n",
       "28  2024-07-15        6\n",
       "29  2024-07-22        7\n",
       "30  2024-07-29        7\n",
       "31  2024-08-05        5\n",
       "32  2024-08-12        6\n",
       "33  2024-08-19        7\n",
       "34  2024-08-26        7\n",
       "35  2024-09-02        7\n",
       "36  2024-09-09        5\n",
       "37  2024-09-16        7\n",
       "38  2024-09-23        7\n",
       "39  2024-09-30        6\n",
       "40  2024-10-07        5\n",
       "41  2024-10-14        6\n",
       "42  2024-10-21        6\n",
       "43  2024-10-28        3\n",
       "44  2024-11-04        7\n",
       "45  2024-11-25        1\n",
       "46  2024-12-02        7\n",
       "47  2024-12-09        2"
      ]
     },
     "execution_count": 95,
     "metadata": {},
     "output_type": "execute_result"
    }
   ],
   "source": [
    "weekly_signups = df.groupby('signup_week').size().reset_index(name='Signups')\n",
    "weekly_signups"
   ]
  },
  {
   "cell_type": "code",
   "execution_count": 101,
   "id": "a1ad3d9d-e1ed-49cb-87e1-c56bdbb1abf2",
   "metadata": {},
   "outputs": [
    {
     "name": "stdout",
     "output_type": "stream",
     "text": [
      "      source  signups\n",
      "0    YouTube       56\n",
      "1     Google       50\n",
      "2   Referral       48\n",
      "3  Instagram       47\n",
      "4   Facebook       39\n",
      "5   LinkedIn       37\n",
      "6         ??        6\n"
     ]
    }
   ],
   "source": [
    "signups_by_source = df['source'].value_counts().reset_index()\n",
    "signups_by_source.columns = ['source', 'signups']\n",
    "print(signups_by_source)"
   ]
  },
  {
   "cell_type": "code",
   "execution_count": 103,
   "id": "23305490-5a14-41f1-91cf-2eecdde95b1f",
   "metadata": {},
   "outputs": [
    {
     "name": "stdout",
     "output_type": "stream",
     "text": [
      "    region  signups\n",
      "0    North       64\n",
      "1     East       61\n",
      "2    South       56\n",
      "3     West       44\n",
      "4  Central       38\n",
      "5  Unknown       29\n"
     ]
    }
   ],
   "source": [
    "signups_by_region = df['region'].value_counts().reset_index()\n",
    "signups_by_region.columns = ['region', 'signups']\n",
    "print(signups_by_region)"
   ]
  },
  {
   "cell_type": "code",
   "execution_count": 107,
   "id": "322d949c-4e35-4521-8df6-9d646c94ff35",
   "metadata": {},
   "outputs": [
    {
     "name": "stdout",
     "output_type": "stream",
     "text": [
      "  plan_selected  signups\n",
      "0       Premium       97\n",
      "1           Pro       93\n",
      "2         Basic       88\n",
      "3       Unknown        6\n"
     ]
    }
   ],
   "source": [
    "signups_by_plan = df['plan_selected'].value_counts().reset_index()\n",
    "signups_by_plan.columns = ['plan_selected', 'signups']\n",
    "print(signups_by_plan)"
   ]
  },
  {
   "cell_type": "code",
   "execution_count": 117,
   "id": "308c283a-4b35-43f0-ad8e-cbe845ce9d15",
   "metadata": {},
   "outputs": [],
   "source": [
    "df['age'] = pd.to_numeric(df['age'], errors='coerce')"
   ]
  },
  {
   "cell_type": "code",
   "execution_count": 119,
   "id": "1e0e8312-1d6d-4be6-a21b-afe2d41e858f",
   "metadata": {},
   "outputs": [
    {
     "name": "stdout",
     "output_type": "stream",
     "text": [
      "{'min': 21.0, 'max': 206.0, 'mean': 36.256410256410255, 'median': 34.0, 'null_count': 19}\n"
     ]
    }
   ],
   "source": [
    "age_summary = {\n",
    "    'min': df['age'].min(),\n",
    "    'max': df['age'].max(),\n",
    "    'mean': df['age'].mean(),\n",
    "    'median': df['age'].median(),\n",
    "    'null_count': df['age'].isnull().sum()\n",
    "}\n",
    "print(age_summary)"
   ]
  },
  {
   "cell_type": "code",
   "execution_count": 111,
   "id": "6ab7c42d-7da3-45cf-9436-f94427339e1e",
   "metadata": {},
   "outputs": [
    {
     "name": "stdout",
     "output_type": "stream",
     "text": [
      "marketing_opt_in      gender  Nil   No  Yes\n",
      "0                        123    0    3    3\n",
      "1                 Non-binary    0   20   18\n",
      "2                    Unknown    1  128  101\n"
     ]
    }
   ],
   "source": [
    "optin_by_gender = (\n",
    "    df.groupby(['gender', 'marketing_opt_in'])\n",
    "    .size()\n",
    "    .unstack(fill_value=0)\n",
    "    .reset_index()\n",
    ")\n",
    "print(optin_by_gender)"
   ]
  },
  {
   "cell_type": "code",
   "execution_count": 125,
   "id": "c7193309-8bad-4445-babc-bc6afa92692c",
   "metadata": {},
   "outputs": [
    {
     "name": "stdout",
     "output_type": "stream",
     "text": [
      "      source  signups\n",
      "0    YouTube       56\n",
      "1     Google       50\n",
      "2   Referral       48\n",
      "3  Instagram       47\n",
      "4   Facebook       39\n",
      "5   LinkedIn       37\n",
      "6         ??        6\n",
      "    region  signups\n",
      "0    North       64\n",
      "1     East       61\n",
      "2    South       56\n",
      "3     West       44\n",
      "4  Central       38\n",
      "5  Unknown       29\n",
      "  plan_selected  signups\n",
      "0       Premium       97\n",
      "1           Pro       93\n",
      "2         Basic       88\n",
      "3       Unknown        6\n",
      "marketing_opt_in      gender  Nil   No  Yes\n",
      "0                        123    0    3    3\n",
      "1                 Non-binary    0   20   18\n",
      "2                    Unknown    1  128  101\n",
      "{'min': 21.0, 'max': 206.0, 'mean': 36.256410256410255, 'median': 34.0, 'null_count': 19}\n"
     ]
    }
   ],
   "source": [
    "print(signups_by_source)\n",
    "print(signups_by_region)\n",
    "print(signups_by_plan)\n",
    "print(optin_by_gender)\n",
    "print(age_summary)"
   ]
  },
  {
   "cell_type": "code",
   "execution_count": 127,
   "id": "ffc441a8-7e0f-488c-9cf7-cc1aa1a40c75",
   "metadata": {},
   "outputs": [],
   "source": [
    "support = pd.read_csv(\"support_tickets.csv\")"
   ]
  },
  {
   "cell_type": "code",
   "execution_count": 129,
   "id": "0d9a4494-5a6a-48e9-8296-93c3c5ec0f29",
   "metadata": {},
   "outputs": [
    {
     "data": {
      "text/html": [
       "<div>\n",
       "<style scoped>\n",
       "    .dataframe tbody tr th:only-of-type {\n",
       "        vertical-align: middle;\n",
       "    }\n",
       "\n",
       "    .dataframe tbody tr th {\n",
       "        vertical-align: top;\n",
       "    }\n",
       "\n",
       "    .dataframe thead th {\n",
       "        text-align: right;\n",
       "    }\n",
       "</style>\n",
       "<table border=\"1\" class=\"dataframe\">\n",
       "  <thead>\n",
       "    <tr style=\"text-align: right;\">\n",
       "      <th></th>\n",
       "      <th>ticket_id</th>\n",
       "      <th>customer_id</th>\n",
       "      <th>ticket_date</th>\n",
       "      <th>issue_type</th>\n",
       "      <th>resolved</th>\n",
       "    </tr>\n",
       "  </thead>\n",
       "  <tbody>\n",
       "    <tr>\n",
       "      <th>0</th>\n",
       "      <td>TKT0000-1</td>\n",
       "      <td>CUST00203</td>\n",
       "      <td>2024-08-17</td>\n",
       "      <td>Billing</td>\n",
       "      <td>Yes</td>\n",
       "    </tr>\n",
       "    <tr>\n",
       "      <th>1</th>\n",
       "      <td>TKT0000-2</td>\n",
       "      <td>CUST00203</td>\n",
       "      <td>2024-07-22</td>\n",
       "      <td>Technical Error</td>\n",
       "      <td>Yes</td>\n",
       "    </tr>\n",
       "    <tr>\n",
       "      <th>2</th>\n",
       "      <td>TKT0000-3</td>\n",
       "      <td>CUST00203</td>\n",
       "      <td>2024-07-22</td>\n",
       "      <td>Other</td>\n",
       "      <td>Yes</td>\n",
       "    </tr>\n",
       "    <tr>\n",
       "      <th>3</th>\n",
       "      <td>TKT0001-1</td>\n",
       "      <td>CUST00266</td>\n",
       "      <td>2024-09-26</td>\n",
       "      <td>Account Setup</td>\n",
       "      <td>Yes</td>\n",
       "    </tr>\n",
       "    <tr>\n",
       "      <th>4</th>\n",
       "      <td>TKT0001-2</td>\n",
       "      <td>CUST00266</td>\n",
       "      <td>2024-10-09</td>\n",
       "      <td>Technical Error</td>\n",
       "      <td>No</td>\n",
       "    </tr>\n",
       "  </tbody>\n",
       "</table>\n",
       "</div>"
      ],
      "text/plain": [
       "   ticket_id customer_id ticket_date       issue_type resolved\n",
       "0  TKT0000-1   CUST00203  2024-08-17          Billing      Yes\n",
       "1  TKT0000-2   CUST00203  2024-07-22  Technical Error      Yes\n",
       "2  TKT0000-3   CUST00203  2024-07-22            Other      Yes\n",
       "3  TKT0001-1   CUST00266  2024-09-26    Account Setup      Yes\n",
       "4  TKT0001-2   CUST00266  2024-10-09  Technical Error       No"
      ]
     },
     "execution_count": 129,
     "metadata": {},
     "output_type": "execute_result"
    }
   ],
   "source": [
    "support.head()"
   ]
  },
  {
   "cell_type": "code",
   "execution_count": 131,
   "id": "35fd6a61-7532-4977-99b9-bb5e4aa90615",
   "metadata": {},
   "outputs": [
    {
     "name": "stdout",
     "output_type": "stream",
     "text": [
      "<class 'pandas.core.frame.DataFrame'>\n",
      "RangeIndex: 123 entries, 0 to 122\n",
      "Data columns (total 5 columns):\n",
      " #   Column       Non-Null Count  Dtype \n",
      "---  ------       --------------  ----- \n",
      " 0   ticket_id    123 non-null    object\n",
      " 1   customer_id  123 non-null    object\n",
      " 2   ticket_date  123 non-null    object\n",
      " 3   issue_type   123 non-null    object\n",
      " 4   resolved     123 non-null    object\n",
      "dtypes: object(5)\n",
      "memory usage: 4.9+ KB\n"
     ]
    }
   ],
   "source": [
    "support.info()"
   ]
  },
  {
   "cell_type": "code",
   "execution_count": 133,
   "id": "cf063d77-64dc-4327-9b5b-9683afe7eb55",
   "metadata": {},
   "outputs": [],
   "source": [
    "support['ticket_date'] = pd.to_datetime(support['ticket_date'], errors='coerce')"
   ]
  },
  {
   "cell_type": "code",
   "execution_count": 137,
   "id": "4fd9ff55-e0d1-408b-922f-545f29995c18",
   "metadata": {},
   "outputs": [],
   "source": [
    "merged = pd.merge(df, support, on='customer_id', how='inner')"
   ]
  },
  {
   "cell_type": "code",
   "execution_count": 143,
   "id": "84d2be6d-732b-495e-aed6-89e11997af3b",
   "metadata": {},
   "outputs": [],
   "source": [
    "merged['days_to_ticket'] = (merged['ticket_date'] - merged['signup_date']).dt.days\n",
    "within_2_weeks = merged[(merged['days_to_ticket'] >= 0) & (merged['days_to_ticket'] <= 14)] "
   ]
  },
  {
   "cell_type": "code",
   "execution_count": 145,
   "id": "de642968-c05a-4842-8243-2c998d92e3a9",
   "metadata": {},
   "outputs": [
    {
     "name": "stdout",
     "output_type": "stream",
     "text": [
      "  plan_selected  support_tickets\n",
      "0         Basic               24\n",
      "1           Pro               23\n",
      "2       Premium               15\n",
      "3       Unknown                3\n"
     ]
    }
   ],
   "source": [
    "support_by_plan = within_2_weeks['plan_selected'].value_counts().reset_index()\n",
    "support_by_plan.columns = ['plan_selected', 'support_tickets']\n",
    "print(support_by_plan)"
   ]
  },
  {
   "cell_type": "code",
   "execution_count": 147,
   "id": "0e10ba6a-a951-46af-85af-a54c367aa56b",
   "metadata": {},
   "outputs": [
    {
     "name": "stdout",
     "output_type": "stream",
     "text": [
      "    region  support_tickets\n",
      "0    Basic               24\n",
      "1      Pro               23\n",
      "2  Premium               15\n",
      "3  Unknown                3\n"
     ]
    }
   ],
   "source": [
    "support_by_region = within_2_weeks['plan_selected'].value_counts().reset_index()\n",
    "support_by_region.columns = ['region', 'support_tickets']\n",
    "print(support_by_region)"
   ]
  },
  {
   "cell_type": "code",
   "execution_count": 151,
   "id": "1cd12385-f41e-4b60-9e61-aef021cb7e4f",
   "metadata": {},
   "outputs": [
    {
     "name": "stdout",
     "output_type": "stream",
     "text": [
      "Customer who contracted support within 2 weeks: 47\n"
     ]
    }
   ],
   "source": [
    "unique_customers = within_2_weeks['customer_id'].nunique()\n",
    "print(f\"Customer who contracted support within 2 weeks: {unique_customers}\")"
   ]
  },
  {
   "cell_type": "code",
   "execution_count": null,
   "id": "5409366a-50c8-4f37-bef4-0f6551efa6e1",
   "metadata": {},
   "outputs": [],
   "source": []
  }
 ],
 "metadata": {
  "kernelspec": {
   "display_name": "Python 3 (ipykernel)",
   "language": "python",
   "name": "python3"
  },
  "language_info": {
   "codemirror_mode": {
    "name": "ipython",
    "version": 3
   },
   "file_extension": ".py",
   "mimetype": "text/x-python",
   "name": "python",
   "nbconvert_exporter": "python",
   "pygments_lexer": "ipython3",
   "version": "3.12.4"
  }
 },
 "nbformat": 4,
 "nbformat_minor": 5
}
